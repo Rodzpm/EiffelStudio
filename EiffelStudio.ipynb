{
 "cells": [
  {
   "cell_type": "code",
   "execution_count": 669,
   "metadata": {},
   "outputs": [],
   "source": [
    "#Imports\n",
    "import numpy as np\n",
    "from scipy.io import wavfile\n",
    "from scipy.io import wavfile\n",
    "import matplotlib.pyplot as plt"
   ]
  },
  {
   "cell_type": "code",
   "execution_count": 670,
   "metadata": {},
   "outputs": [],
   "source": [
    "#Renvoie la liste des notes d'un piano avec leur fréquences respective\n",
    "def get_piano_notes():   \n",
    "    # White keys are in Uppercase and black keys (sharps) are in lowercase\n",
    "    octave = ['C', 'c', 'D', 'd', 'E', 'F', 'f', 'G', 'g', 'A', 'a', 'B'] \n",
    "    base_freq = 440 #Frequency of Note A4\n",
    "    keys = np.array([x+str(y) for y in range(0,9) for x in octave])\n",
    "    # Trim to standard 88 keys\n",
    "    start = np.where(keys == 'A0')[0][0]\n",
    "    end = np.where(keys == 'C8')[0][0]\n",
    "    keys = keys[start:end+1]\n",
    "    \n",
    "    note_freqs = dict(zip(keys, [2**((n+1-49)/12)*base_freq for n in range(len(keys))]))\n",
    "    note_freqs[''] = 0.0 # stop\n",
    "    return note_freqs"
   ]
  },
  {
   "cell_type": "code",
   "execution_count": 671,
   "metadata": {},
   "outputs": [],
   "source": [
    "#Récupère le son à partir de la fréquance et du temps donné\n",
    "def get_sine_wave(frequency, duration, sample_rate=44100, amplitude=4096):\n",
    "    t = np.linspace(0, duration, int(sample_rate*duration)) # Time axis\n",
    "    wave = amplitude*np.sin(2*np.pi*frequency*t)\n",
    "    return wave"
   ]
  },
  {
   "cell_type": "code",
   "execution_count": 672,
   "metadata": {},
   "outputs": [],
   "source": [
    "#Liste des notes\n",
    "note_freqs = get_piano_notes()"
   ]
  },
  {
   "cell_type": "code",
   "execution_count": 673,
   "metadata": {},
   "outputs": [],
   "source": [
    "#Créer l'accord à partir des notes données\n",
    "def create_note(note, BPM):\n",
    "    res = 0\n",
    "    note = note.split(\"-\")\n",
    "    duration = len(note)/4\n",
    "    for i in range(0,len(note[0]),2):\n",
    "        res += get_sine_wave(note_freqs[note[0][i:i+2]], duration=duration*(60/BPM))\n",
    "    return res"
   ]
  },
  {
   "cell_type": "code",
   "execution_count": 674,
   "metadata": {},
   "outputs": [],
   "source": [
    "#analyse chaque accord d'une ligne\n",
    "def analyse_notes(notes, BPM):\n",
    "    for i in range(len(notes)):\n",
    "        notes[i] = create_note(notes[i], BPM)\n",
    "    return notes"
   ]
  },
  {
   "cell_type": "code",
   "execution_count": 675,
   "metadata": {},
   "outputs": [],
   "source": [
    "#Lis une partition\n",
    "def read_partition(partition_path, BPM):\n",
    "    partition = []\n",
    "    with open(partition_path) as f:\n",
    "        contents = f.readlines()\n",
    "        for lines in contents:\n",
    "            res = lines.split()\n",
    "            for elt in analyse_notes(res, BPM):\n",
    "                partition.append(elt)\n",
    "    return partition"
   ]
  },
  {
   "cell_type": "code",
   "execution_count": 677,
   "metadata": {},
   "outputs": [],
   "source": [
    "#Exemple avec GigaChad\n",
    "partition = read_partition(\"GigaChad.txt\", 100)\n",
    "music = np.concatenate(partition)\n",
    "wavfile.write('GigaChad.wav', rate=44100, data=music.astype(np.int16))"
   ]
  }
 ],
 "metadata": {
  "kernelspec": {
   "display_name": "Python 3.10.6 64-bit",
   "language": "python",
   "name": "python3"
  },
  "language_info": {
   "codemirror_mode": {
    "name": "ipython",
    "version": 3
   },
   "file_extension": ".py",
   "mimetype": "text/x-python",
   "name": "python",
   "nbconvert_exporter": "python",
   "pygments_lexer": "ipython3",
   "version": "3.10.6"
  },
  "orig_nbformat": 4,
  "vscode": {
   "interpreter": {
    "hash": "916dbcbb3f70747c44a77c7bcd40155683ae19c65e1c03b4aa3499c5328201f1"
   }
  }
 },
 "nbformat": 4,
 "nbformat_minor": 2
}
