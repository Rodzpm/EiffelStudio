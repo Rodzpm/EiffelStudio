{
 "cells": [
  {
   "cell_type": "code",
   "execution_count": 253,
   "metadata": {},
   "outputs": [],
   "source": [
    "#Imports\n",
    "import numpy as np\n",
    "from scipy.io import wavfile\n",
    "from scipy.io import wavfile\n",
    "import matplotlib.pyplot as plt\n"
   ]
  },
  {
   "cell_type": "code",
   "execution_count": 254,
   "metadata": {},
   "outputs": [],
   "source": [
    "#Renvoie la liste des notes d'un piano avec leur fréquences respective\n",
    "def get_piano_notes():   \n",
    "    # White keys are in Uppercase and black keys (sharps) are in lowercase\n",
    "    octave = ['C', 'c', 'D', 'd', 'E', 'F', 'f', 'G', 'g', 'A', 'a', 'B'] \n",
    "    base_freq = 440 #Frequency of Note A4\n",
    "    keys = np.array([x+str(y) for y in range(0,9) for x in octave])\n",
    "    # Trim to standard 88 keys\n",
    "    start = np.where(keys == 'A0')[0][0]\n",
    "    end = np.where(keys == 'C8')[0][0]\n",
    "    keys = keys[start:end+1]\n",
    "    \n",
    "    note_freqs = dict(zip(keys, [2**((n+1-49)/12)*base_freq for n in range(len(keys))]))\n",
    "    note_freqs[''] = 0.0 # stop\n",
    "    return note_freqs"
   ]
  },
  {
   "cell_type": "code",
   "execution_count": 255,
   "metadata": {},
   "outputs": [],
   "source": [
    "#Récupère le son à partir de la fréquance et du temps donné\n",
    "def get_sine_wave(frequency, duration, sample_rate=44100, amplitude=4096):\n",
    "    t = np.linspace(0, duration, int(sample_rate*duration)) # Time axis\n",
    "    wave = amplitude*np.sin(2*np.pi*frequency*t)\n",
    "    return wave"
   ]
  },
  {
   "cell_type": "code",
   "execution_count": 256,
   "metadata": {},
   "outputs": [],
   "source": [
    "#Liste des notes\n",
    "note_freqs = get_piano_notes()"
   ]
  },
  {
   "cell_type": "code",
   "execution_count": 257,
   "metadata": {},
   "outputs": [],
   "source": [
    "#Fonction qui créé un accord selon les notes données et le BPM\n",
    "def create_note(note_list, BPM):\n",
    "    note = 0\n",
    "    for i in range(len(note_list)):\n",
    "        note += get_sine_wave(note_freqs[note_list[i][0]], duration=note_list[i][1] * (60/BPM))\n",
    "    return note\n"
   ]
  },
  {
   "cell_type": "code",
   "execution_count": 258,
   "metadata": {},
   "outputs": [],
   "source": [
    "#Exemple : Au clair de la lune C Major à 120 BPM\n",
    "\n",
    "#BPM du don\n",
    "BPM = 120\n",
    "#Liste des notes utilisées\n",
    "do = create_note([[\"C5\",1/2],[\"C4\",1/2], [\"C6\",1/2]], BPM)\n",
    "do2 = create_note([[\"C5\",2],[\"C4\",2],[\"C6\",2]], BPM)\n",
    "ré = create_note([[\"D5\",1/2], [\"D4\",1/2], [\"D6\",1/2]], BPM)\n",
    "ré2 = create_note([[\"D5\",1], [\"D4\",1], [\"D6\",1]], BPM)\n",
    "mi = create_note([[\"E5\",1/2], [\"E4\",1/2], [\"E6\",1/2]], BPM)\n",
    "mi2 = create_note([[\"E5\",1], [\"E4\",1], [\"E6\",1]], BPM)\n",
    "la = create_note([[\"A4\",1/2], [\"A3\",1/2], [\"A5\",1/2]], BPM)\n",
    "la2 = create_note([[\"A4\",1], [\"A3\",1], [\"A5\",1]], BPM)\n",
    "sol2 = create_note([[\"G4\",2], [\"G3\",2], [\"G5\",2]], BPM)\n",
    "si = create_note([[\"B4\",1/2], [\"B3\",1/2], [\"B5\",1/2]], BPM)\n",
    "\n",
    "#Partition\n",
    "music = np.concatenate((\n",
    "do, do, do, ré, mi2, ré2, do, mi, ré, ré, do2,\n",
    "do, do, do, ré, mi2, ré2, do, mi, ré, ré, do2,\n",
    "ré, ré, ré, ré, la2, la2, ré, do, si, la, sol2,\n",
    "do, do, do, ré, mi2, ré2, do, mi, ré, ré, do2\n",
    "))\n",
    "\n",
    "#Exporte l'audio en wav\n",
    "wavfile.write('AuClairDeLaLune.wav', rate=44100, data=musique.astype(np.int16))"
   ]
  }
 ],
 "metadata": {
  "kernelspec": {
   "display_name": "Python 3.10.6 64-bit",
   "language": "python",
   "name": "python3"
  },
  "language_info": {
   "codemirror_mode": {
    "name": "ipython",
    "version": 3
   },
   "file_extension": ".py",
   "mimetype": "text/x-python",
   "name": "python",
   "nbconvert_exporter": "python",
   "pygments_lexer": "ipython3",
   "version": "3.10.6"
  },
  "orig_nbformat": 4,
  "vscode": {
   "interpreter": {
    "hash": "916dbcbb3f70747c44a77c7bcd40155683ae19c65e1c03b4aa3499c5328201f1"
   }
  }
 },
 "nbformat": 4,
 "nbformat_minor": 2
}
