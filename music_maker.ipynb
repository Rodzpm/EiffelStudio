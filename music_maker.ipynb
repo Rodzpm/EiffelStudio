{
 "cells": [
  {
   "cell_type": "code",
   "execution_count": 133,
   "metadata": {},
   "outputs": [],
   "source": [
    "import numpy as np\n",
    "from scipy.io import wavfile\n",
    "from scipy.io import wavfile\n",
    "import matplotlib.pyplot as plt\n"
   ]
  },
  {
   "cell_type": "code",
   "execution_count": 134,
   "metadata": {},
   "outputs": [],
   "source": [
    "def get_piano_notes():   \n",
    "    # White keys are in Uppercase and black keys (sharps) are in lowercase\n",
    "    octave = ['C', 'c', 'D', 'd', 'E', 'F', 'f', 'G', 'g', 'A', 'a', 'B'] \n",
    "    base_freq = 440 #Frequency of Note A4\n",
    "    keys = np.array([x+str(y) for y in range(0,9) for x in octave])\n",
    "    # Trim to standard 88 keys\n",
    "    start = np.where(keys == 'A0')[0][0]\n",
    "    end = np.where(keys == 'C8')[0][0]\n",
    "    keys = keys[start:end+1]\n",
    "    \n",
    "    note_freqs = dict(zip(keys, [2**((n+1-49)/12)*base_freq for n in range(len(keys))]))\n",
    "    note_freqs[''] = 0.0 # stop\n",
    "    return note_freqs"
   ]
  },
  {
   "cell_type": "code",
   "execution_count": 135,
   "metadata": {},
   "outputs": [],
   "source": [
    "def get_sine_wave(frequency, duration, sample_rate=44100, amplitude=4096):\n",
    "    t = np.linspace(0, duration, int(sample_rate*duration)) # Time axis\n",
    "    wave = amplitude*np.sin(2*np.pi*frequency*t)\n",
    "    return wave"
   ]
  },
  {
   "cell_type": "code",
   "execution_count": 136,
   "metadata": {},
   "outputs": [],
   "source": [
    "\n",
    "# Get middle C frequency\n",
    "note_freqs = get_piano_notes()\n",
    "frequency = note_freqs['C4']\n",
    "frequency2 = note_freqs['D4']\n",
    "frequency3 = note_freqs['E4']\n",
    "frequency4 = note_freqs['D4']\n",
    "frequency5 = note_freqs['E4']\n",
    "frequency6 = note_freqs['D4']\n",
    "# Pure sine wave\n",
    "sine_wave = get_sine_wave(frequency, duration=0.5, amplitude=2048)\n",
    "sine_wave2 = get_sine_wave(frequency2, duration=0.5, amplitude=2048)\n",
    "sine_wave3 = get_sine_wave(frequency3, duration=1, amplitude=2048)\n",
    "sine_wave4 = get_sine_wave(frequency4, duration=0.5, amplitude=2048)\n",
    "sine_wave5 = get_sine_wave(frequency5, duration=0.5, amplitude=2048)\n",
    "sine_wave6 = get_sine_wave(frequency6, duration=0.5, amplitude=2048)\n",
    "res = np.concatenate((sine_wave, sine_wave, sine_wave,sine_wave2, sine_wave3, sine_wave2, sine_wave, sine_wave3, sine_wave2, sine_wave2, sine_wave))\n",
    "wavfile.write('note2.wav', rate=44100, data=res.astype(np.int16))"
   ]
  }
 ],
 "metadata": {
  "kernelspec": {
   "display_name": "Python 3.10.6 64-bit",
   "language": "python",
   "name": "python3"
  },
  "language_info": {
   "codemirror_mode": {
    "name": "ipython",
    "version": 3
   },
   "file_extension": ".py",
   "mimetype": "text/x-python",
   "name": "python",
   "nbconvert_exporter": "python",
   "pygments_lexer": "ipython3",
   "version": "3.10.6"
  },
  "orig_nbformat": 4,
  "vscode": {
   "interpreter": {
    "hash": "916dbcbb3f70747c44a77c7bcd40155683ae19c65e1c03b4aa3499c5328201f1"
   }
  }
 },
 "nbformat": 4,
 "nbformat_minor": 2
}
